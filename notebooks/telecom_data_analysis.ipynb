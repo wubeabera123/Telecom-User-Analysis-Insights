{
 "cells": [
  {
   "cell_type": "markdown",
   "metadata": {},
   "source": [
    "# Import the necessary libraries"
   ]
  },
  {
   "cell_type": "code",
   "execution_count": 1,
   "metadata": {},
   "outputs": [],
   "source": [
    "import pandas as pd\n",
    "import sys\n",
    "import os\n",
    "\n",
    "\n",
    "sys.path.append(os.path.abspath(os.path.join(os.getcwd(), '../scripts')))\n",
    "from telecom_Database_Connector import TelecomDatabaseConnector\n",
    "from missing_value_checker import MissingValueChecker\n",
    "from outlier_checker import OutlierChecker\n"
   ]
  },
  {
   "cell_type": "markdown",
   "metadata": {},
   "source": [
    "# Load the telecom data from the database"
   ]
  },
  {
   "cell_type": "code",
   "execution_count": 5,
   "metadata": {},
   "outputs": [
    {
     "name": "stdout",
     "output_type": "stream",
     "text": [
      "      Bearer Id            Start  Start ms              End  End ms  \\\n",
      "0  1.311448e+19   4/4/2019 12:01     770.0  4/25/2019 14:35   662.0   \n",
      "1  1.311448e+19   4/9/2019 13:04     235.0   4/25/2019 8:15   606.0   \n",
      "2  1.311448e+19   4/9/2019 17:42       1.0  4/25/2019 11:58   652.0   \n",
      "3  1.311448e+19   4/10/2019 0:31     486.0   4/25/2019 7:36   171.0   \n",
      "4  1.311448e+19  4/12/2019 20:10     565.0  4/25/2019 10:40   954.0   \n",
      "5  1.311448e+19  4/12/2019 21:37     439.0   4/25/2019 8:08   553.0   \n",
      "6  1.311448e+19   4/13/2019 8:41     612.0   4/25/2019 8:16   168.0   \n",
      "7  1.304243e+19   4/14/2019 2:11     592.0   4/25/2019 2:26   512.0   \n",
      "8  1.311448e+19  4/14/2019 12:48     121.0  4/25/2019 10:22   960.0   \n",
      "9  1.304243e+19   4/15/2019 0:32       0.0   4/25/2019 0:40   284.0   \n",
      "\n",
      "   Dur. (ms)          IMSI  MSISDN/Number          IMEI  \\\n",
      "0  1823652.0  2.082014e+14   3.366496e+10  3.552121e+13   \n",
      "1  1365104.0  2.082019e+14   3.368185e+10  3.579401e+13   \n",
      "2  1361762.0  2.082003e+14   3.376063e+10  3.528151e+13   \n",
      "3  1321509.0  2.082014e+14   3.375034e+10  3.535661e+13   \n",
      "4  1089009.0  2.082014e+14   3.369980e+10  3.540701e+13   \n",
      "5  1074638.0  2.082014e+14   3.366819e+10  3.529841e+13   \n",
      "6  1035261.0  2.082014e+14   3.366537e+10  8.676270e+13   \n",
      "7   951292.0  2.082010e+14   3.376349e+10  8.654640e+13   \n",
      "8   941634.0  2.082014e+14   3.369874e+10  3.556241e+13   \n",
      "9   864482.0  2.082003e+14   3.365922e+10  3.557311e+13   \n",
      "\n",
      "      Last Location Name  ...  Youtube DL (Bytes)  Youtube UL (Bytes)  \\\n",
      "0  9.16456699548519E+015  ...          15854611.0           2501332.0   \n",
      "1                L77566A  ...          20247395.0          19111729.0   \n",
      "2                D42335A  ...          19725661.0          14699576.0   \n",
      "3                T21824A  ...          21388122.0          15146643.0   \n",
      "4                D88865A  ...          15259380.0          18962873.0   \n",
      "5                T89132C  ...          21332918.0           2611113.0   \n",
      "6  9.16456701058919E+015  ...           7234465.0           1886295.0   \n",
      "7   CELL_208_20_520025_1  ...          12189786.0          19735183.0   \n",
      "8                T42084A  ...          18436641.0          10860867.0   \n",
      "9                L20434C  ...          16338345.0           6573194.0   \n",
      "\n",
      "   Netflix DL (Bytes)  Netflix UL (Bytes)  Gaming DL (Bytes)  \\\n",
      "0           8198936.0           9656251.0        278082303.0   \n",
      "1          18338413.0          17227132.0        608750074.0   \n",
      "2          17587794.0           6163408.0        229584621.0   \n",
      "3          13994646.0           1097942.0        799538153.0   \n",
      "4          17124581.0            415218.0        527707248.0   \n",
      "5           7345361.0           6536448.0        710293538.0   \n",
      "6          13231006.0          17981760.0         44796223.0   \n",
      "7           6858496.0          12075206.0        748906189.0   \n",
      "8          10587264.0           8467177.0        821671285.0   \n",
      "9          12211149.0            974201.0        811355188.0   \n",
      "\n",
      "   Gaming UL (Bytes)  Other DL (Bytes)  Other UL (Bytes)  Total UL (Bytes)  \\\n",
      "0         14344150.0       171744450.0         8814393.0        36749741.0   \n",
      "1          1170709.0       526904238.0        15055145.0        53800391.0   \n",
      "2           395630.0       410692588.0         4215763.0        27883638.0   \n",
      "3         10849722.0       749039933.0        12797283.0        43324218.0   \n",
      "4          3529801.0       550709500.0        13910322.0        38542814.0   \n",
      "5         13167974.0       654978277.0         4436057.0        30307754.0   \n",
      "6         14084934.0       803653557.0        10649768.0        47925246.0   \n",
      "7         16149622.0       537601820.0         7714657.0        58813016.0   \n",
      "8          6548349.0       172920486.0        14749031.0        42363146.0   \n",
      "9          1591237.0        64856042.0        12815208.0        22417975.0   \n",
      "\n",
      "   Total DL (Bytes)  \n",
      "0       308879636.0  \n",
      "1       653384965.0  \n",
      "2       279807335.0  \n",
      "3       846028530.0  \n",
      "4       569138589.0  \n",
      "5       754452212.0  \n",
      "6        70562047.0  \n",
      "7       775350343.0  \n",
      "8       861612261.0  \n",
      "9       850570347.0  \n",
      "\n",
      "[10 rows x 55 columns]\n"
     ]
    }
   ],
   "source": [
    "# Import the class from the Python file\n",
    "\n",
    "# 1. Instantiate the database connector\n",
    "db_connector = TelecomDatabaseConnector(dbname=\"telecom_db\", user=\"postgres\", password=\"12345\")\n",
    "\n",
    "# 2. Write a query to fetch data from your database\n",
    "query = \"SELECT * FROM xdr_data LIMIT 10;\"\n",
    "\n",
    "# 3. Fetch the data and store it in a pandas DataFrame\n",
    "data = db_connector.query_data(query)\n",
    "\n",
    "# 4. Display the fetched data\n",
    "print(data)\n",
    "\n",
    "# 5. Close the connection when done\n",
    "db_connector.close_connection()\n",
    "\n"
   ]
  },
  {
   "cell_type": "markdown",
   "metadata": {},
   "source": [
    "# Data cleaning"
   ]
  },
  {
   "cell_type": "code",
   "execution_count": 2,
   "metadata": {},
   "outputs": [
    {
     "name": "stdout",
     "output_type": "stream",
     "text": [
      "Missing Values Before Filling:\n",
      " Handset             1\n",
      "Session Duration    1\n",
      "Data Usage          1\n",
      "dtype: int64\n",
      "\n",
      "Cleaned Data:\n",
      "    Handset  Session Duration  Data Usage\n",
      "0   iPhone              30.0      100.50\n",
      "1  Samsung              40.0      175.15\n",
      "2   iPhone              50.0      300.30\n",
      "3   iPhone              45.0      150.10\n",
      "4    Nokia              80.0      200.20\n"
     ]
    },
    {
     "name": "stderr",
     "output_type": "stream",
     "text": [
      "c:\\Users\\wubeshet.abera\\Projects\\Ten-Academy\\Telecom-User-Analysis-Insights\\scripts\\missing_value_checker.py:28: FutureWarning: A value is trying to be set on a copy of a DataFrame or Series through chained assignment using an inplace method.\n",
      "The behavior will change in pandas 3.0. This inplace method will never work because the intermediate object on which we are setting values always behaves as a copy.\n",
      "\n",
      "For example, when doing 'df[col].method(value, inplace=True)', try using 'df.method({col: value}, inplace=True)' or df[col] = df[col].method(value) instead, to perform the operation inplace on the original object.\n",
      "\n",
      "\n",
      "  self.data[column].fillna(mode_value, inplace=True)\n",
      "c:\\Users\\wubeshet.abera\\Projects\\Ten-Academy\\Telecom-User-Analysis-Insights\\scripts\\missing_value_checker.py:31: FutureWarning: A value is trying to be set on a copy of a DataFrame or Series through chained assignment using an inplace method.\n",
      "The behavior will change in pandas 3.0. This inplace method will never work because the intermediate object on which we are setting values always behaves as a copy.\n",
      "\n",
      "For example, when doing 'df[col].method(value, inplace=True)', try using 'df.method({col: value}, inplace=True)' or df[col] = df[col].method(value) instead, to perform the operation inplace on the original object.\n",
      "\n",
      "\n",
      "  self.data[column].fillna(median_value, inplace=True)\n",
      "c:\\Users\\wubeshet.abera\\Projects\\Ten-Academy\\Telecom-User-Analysis-Insights\\scripts\\missing_value_checker.py:31: FutureWarning: A value is trying to be set on a copy of a DataFrame or Series through chained assignment using an inplace method.\n",
      "The behavior will change in pandas 3.0. This inplace method will never work because the intermediate object on which we are setting values always behaves as a copy.\n",
      "\n",
      "For example, when doing 'df[col].method(value, inplace=True)', try using 'df.method({col: value}, inplace=True)' or df[col] = df[col].method(value) instead, to perform the operation inplace on the original object.\n",
      "\n",
      "\n",
      "  self.data[column].fillna(median_value, inplace=True)\n"
     ]
    }
   ],
   "source": [
    "# Import the missing value checker class\n",
    "from missing_value_checker import MissingValueChecker\n",
    "\n",
    "# Load your dataset (e.g., telecom data)\n",
    "# For example, telecom_data = pd.read_csv(\"telecom_dataset.csv\")\n",
    "telecom_data = pd.DataFrame({\n",
    "    'Handset': ['iPhone', 'Samsung', None, 'iPhone', 'Nokia'],\n",
    "    'Session Duration': [30, 40, 50, None, 80],\n",
    "    'Data Usage': [100.5, None, 300.3, 150.1, 200.2]\n",
    "})\n",
    "\n",
    "# Create an instance of MissingValueChecker\n",
    "missing_checker = MissingValueChecker(telecom_data)\n",
    "\n",
    "# Check for missing values\n",
    "missing_values = missing_checker.check_missing()\n",
    "print(\"Missing Values Before Filling:\\n\", missing_values)\n",
    "\n",
    "# Fill missing values based on datatype (mode for categorical, median for numerical)\n",
    "missing_checker.fill_missing_by_type()\n",
    "\n",
    "# Get the cleaned data after handling missing values\n",
    "cleaned_data = missing_checker.get_cleaned_data()\n",
    "\n",
    "# Display the cleaned dataset\n",
    "print(\"\\nCleaned Data:\\n\", cleaned_data)\n",
    "\n",
    "# Now, you can pass the cleaned data to your overview analysis class\n",
    "# For example:\n",
    "# analysis = TelecomUserOverview(cleaned_data)\n"
   ]
  }
 ],
 "metadata": {
  "kernelspec": {
   "display_name": "venv",
   "language": "python",
   "name": "python3"
  },
  "language_info": {
   "codemirror_mode": {
    "name": "ipython",
    "version": 3
   },
   "file_extension": ".py",
   "mimetype": "text/x-python",
   "name": "python",
   "nbconvert_exporter": "python",
   "pygments_lexer": "ipython3",
   "version": "3.12.3"
  }
 },
 "nbformat": 4,
 "nbformat_minor": 2
}
